{
 "cells": [
  {
   "cell_type": "code",
   "execution_count": 1,
   "metadata": {
    "collapsed": true
   },
   "outputs": [],
   "source": [
    "import numpy as np"
   ]
  },
  {
   "cell_type": "code",
   "execution_count": 22,
   "metadata": {
    "collapsed": false
   },
   "outputs": [],
   "source": [
    "def fib_file(n,fname):\n",
    "# this function takes in interger value and computes the Fibonacci sequence. After \n",
    "# After computing the sequence, each entry of the sequence is saved in a file that you\n",
    "# give the function as an arguement. Note, that negative interger values will not be\n",
    "# computed by this function.\n",
    "    writer = open('fname', 'w')\n",
    "    writer.write('n %11d, F_n %11d')\n",
    "    f_n = 0\n",
    "    for i in range(0,n):\n",
    "        if i>1:\n",
    "            f_n += i + (i-1)\n",
    "            writer.writelines(['i\\n', 'f_n\\n'])\n",
    "        if n<=0:\n",
    "            print(\"Can not compute\")\n",
    "    writer.close()\n",
    "    return 0\n",
    "    "
   ]
  }
 ],
 "metadata": {
  "kernelspec": {
   "display_name": "Python 3",
   "language": "python",
   "name": "python3"
  },
  "language_info": {
   "codemirror_mode": {
    "name": "ipython",
    "version": 3
   },
   "file_extension": ".py",
   "mimetype": "text/x-python",
   "name": "python",
   "nbconvert_exporter": "python",
   "pygments_lexer": "ipython3",
   "version": "3.4.3"
  }
 },
 "nbformat": 4,
 "nbformat_minor": 0
}
