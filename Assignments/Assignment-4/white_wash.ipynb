{
 "cells": [
  {
   "cell_type": "code",
   "execution_count": 13,
   "metadata": {
    "collapsed": false
   },
   "outputs": [
    {
     "name": "stdout",
     "output_type": "stream",
     "text": [
      "[[0.1, 0.3, 0.5], [0.2, 0.4, 0.6]]\n",
      "[[0.55, 0.65, 0.75], [0.6, 0.7, 0.8]]\n"
     ]
    }
   ],
   "source": [
    "def WhiteWash(map):\n",
    "    for i in map:\n",
    "        for j in range(0,3):\n",
    "            i[j] = ((i[j] + 1) / 2)\n",
    "    return map\n",
    "#test with some array m\n",
    "m = [[0.1, 0.3, 0.5], [.2, .4, .6]]\n",
    "print(m)\n",
    "WhiteWash(m)\n",
    "print(m)\n"
   ]
  },
  {
   "cell_type": "code",
   "execution_count": null,
   "metadata": {
    "collapsed": true
   },
   "outputs": [],
   "source": []
  }
 ],
 "metadata": {
  "kernelspec": {
   "display_name": "Python 3",
   "language": "python",
   "name": "python3"
  },
  "language_info": {
   "codemirror_mode": {
    "name": "ipython",
    "version": 3
   },
   "file_extension": ".py",
   "mimetype": "text/x-python",
   "name": "python",
   "nbconvert_exporter": "python",
   "pygments_lexer": "ipython3",
   "version": "3.4.3"
  }
 },
 "nbformat": 4,
 "nbformat_minor": 0
}
