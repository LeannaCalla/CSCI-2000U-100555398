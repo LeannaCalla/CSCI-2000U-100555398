{
 "cells": [
  {
   "cell_type": "code",
   "execution_count": 1,
   "metadata": {
    "collapsed": false
   },
   "outputs": [
    {
     "name": "stdout",
     "output_type": "stream",
     "text": [
      "When n = 10, rho_n= 3.0418396189294032\n"
     ]
    }
   ],
   "source": [
    "import numpy as np\n",
    "\n",
    "def rho_n(n):\n",
    "    rho_pi = 0\n",
    "    for k in range (1, n+1):\n",
    "        rho_pi = rho_pi + (((-1)**(k+1))/(2*k-1))\n",
    "    return rho_pi * 4\n",
    "\n",
    "\n",
    "x = rho_n(10)\n",
    "print('When n = 10, rho_n=', x)\n",
    "\n",
    "\n",
    "\n",
    "#no output\n",
    "#need it to print the values, want to be able to put in the different \n",
    "#n values without having to redo the whole function\n",
    "# now it outputs!\n"
   ]
  },
  {
   "cell_type": "code",
   "execution_count": 2,
   "metadata": {
    "collapsed": false
   },
   "outputs": [
    {
     "name": "stdout",
     "output_type": "stream",
     "text": [
      "When n = 10, tau_n= 3.04936163598207\n"
     ]
    }
   ],
   "source": [
    "def tau_n(n):\n",
    "    tau_pi = 0\n",
    "    for k in range (1, n+1):\n",
    "        tau_pi = tau_pi + (1/(k**2))\n",
    "    return (tau_pi *6)**(1/2)\n",
    "\n",
    "y = tau_n(10)\n",
    "print('When n = 10, tau_n=',  y)\n",
    "#print statement checks to see that the first value is correct"
   ]
  },
  {
   "cell_type": "code",
   "execution_count": 3,
   "metadata": {
    "collapsed": false
   },
   "outputs": [
    {
     "name": "stdout",
     "output_type": "stream",
     "text": [
      "When n = 10, mu_n 3.1413846224669713\n"
     ]
    }
   ],
   "source": [
    "def mu_n(n):\n",
    "    mu_pi = 0\n",
    "    for k in range(1, n+1):\n",
    "        mu_pi = mu_pi + (1/(k**4))\n",
    "    return ((mu_pi *90)**(1/4))\n",
    "    \n",
    "z= mu_n(10)\n",
    "print('When n = 10, mu_n', z)"
   ]
  },
  {
   "cell_type": "code",
   "execution_count": 4,
   "metadata": {
    "collapsed": false
   },
   "outputs": [
    {
     "name": "stdout",
     "output_type": "stream",
     "text": [
      "When n =      10, rho_n = 3.04183961893\n",
      "When n =      10, tau_n = 3.04936163598\n",
      "When n =      10,  mu_n = 3.14138462247\n",
      "When n =     100, rho_n = 3.13159290356\n",
      "When n =     100, tau_n = 3.13207653181\n",
      "When n =     100,  mu_n = 3.14159241531\n",
      "When n =    1000, rho_n = 3.14059265384\n",
      "When n =    1000, tau_n = 3.14063805621\n",
      "When n =    1000,  mu_n = 3.14159265335\n",
      "When n =  100000, rho_n = 3.14158265359\n",
      "When n =  100000, tau_n = 3.14158310433\n",
      "When n =  100000,  mu_n = 3.14159265359\n",
      "When n = 1000000, rho_n = 3.14159165359\n",
      "When n = 1000000, tau_n = 3.14159169866\n",
      "When n = 1000000,  mu_n = 3.14159265359\n"
     ]
    }
   ],
   "source": [
    "for number in [10, 100, 1000, 100000, 1000000]:\n",
    "    for function in [rho_n, tau_n, mu_n]:\n",
    "        print('When n = %7d, %5s = %.11f' % (number,function.__name__, function(number)))\n",
    "\n",
    "#for loops iterate through the required values for n and the fuctions defined \n",
    "#above, the print statement uses a string modulo operator"
   ]
  },
  {
   "cell_type": "code",
   "execution_count": null,
   "metadata": {
    "collapsed": true
   },
   "outputs": [],
   "source": []
  }
 ],
 "metadata": {
  "kernelspec": {
   "display_name": "Python 3",
   "language": "python",
   "name": "python3"
  },
  "language_info": {
   "codemirror_mode": {
    "name": "ipython",
    "version": 3
   },
   "file_extension": ".py",
   "mimetype": "text/x-python",
   "name": "python",
   "nbconvert_exporter": "python",
   "pygments_lexer": "ipython3",
   "version": "3.4.3"
  }
 },
 "nbformat": 4,
 "nbformat_minor": 0
}
